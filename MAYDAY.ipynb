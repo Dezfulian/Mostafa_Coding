{
 "cells": [
  {
   "cell_type": "code",
   "execution_count": 12,
   "metadata": {},
   "outputs": [
    {
     "name": "stdout",
     "output_type": "stream",
     "text": [
      "['Whiskey', 'Hotel', 'Four', 'Tango', 'Dash', 'Alpha', 'Romeo', 'Three', 'Dash', 'Yankee', 'Oscar', 'Uniform', 'Dash', 'Sierra', 'One', 'November', 'Kilo', 'India', 'November', 'Golf', 'Dash', 'Four', 'Bravo', 'Zero', 'Uniform', 'Seven']\n",
      "WH4T-AR3-YOU-S1NKING-4B0U7"
     ]
    }
   ],
   "source": [
    "payam='Whiskey Hotel Four Tango Dash Alpha Romeo Three Dash Yankee Oscar Uniform Dash Sierra One November Kilo India November Golf Dash Four Bravo Zero Uniform Seven'\n",
    "str=payam.split(' ')\n",
    "print(str)\n",
    "num={'One':1, 'Two':2, 'Three':3, 'Four':4, 'Five':5, 'Six':6, 'Seven':7, 'Eight':8, 'Nine':9, 'Zero':0, 'Dash': '-'}\n",
    "\n",
    "for i in str:\n",
    "    if i in num:\n",
    "        print(num[i], end='')\n",
    "    else:\n",
    "        print(i[0],end='')\n"
   ]
  }
 ],
 "metadata": {
  "kernelspec": {
   "display_name": "Python 3",
   "language": "python",
   "name": "python3"
  },
  "language_info": {
   "codemirror_mode": {
    "name": "ipython",
    "version": 3
   },
   "file_extension": ".py",
   "mimetype": "text/x-python",
   "name": "python",
   "nbconvert_exporter": "python",
   "pygments_lexer": "ipython3",
   "version": "3.8.8"
  },
  "orig_nbformat": 4
 },
 "nbformat": 4,
 "nbformat_minor": 2
}
