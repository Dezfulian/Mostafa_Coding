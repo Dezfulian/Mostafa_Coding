{
 "cells": [
  {
   "cell_type": "code",
   "execution_count": 18,
   "metadata": {},
   "outputs": [
    {
     "name": "stdout",
     "output_type": "stream",
     "text": [
      "only positive integer and >1 is accepted!\n",
      "only positive integer and >1 is accepted!\n",
      "only positive integer and >1 is accepted!\n",
      "only positive integer and >1 is accepted!\n",
      "only positive integer and >1 is accepted!\n",
      "Finish\n"
     ]
    }
   ],
   "source": [
    "n=0\n",
    "acc=True\n",
    "\n",
    "while acc:\n",
    "    m=input('Please Enter an integer number: ')\n",
    "    n= int(m)\n",
    "    if n<1:\n",
    "        print('only positive integer and >1 is accepted!')\n",
    "    else:\n",
    "        acc=False\n",
    "    \n",
    "while n>1:\n",
    "\n",
    "    if n % 2 == 0:\n",
    "        n=n/2\n",
    "        print(n)\n",
    "    else:\n",
    "        n=3*n+1\n",
    "        print(n)\n",
    "print('Finish')\n",
    "\n",
    "\n",
    "\n",
    "\n"
   ]
  }
 ],
 "metadata": {
  "kernelspec": {
   "display_name": "Python 3",
   "language": "python",
   "name": "python3"
  },
  "language_info": {
   "codemirror_mode": {
    "name": "ipython",
    "version": 3
   },
   "file_extension": ".py",
   "mimetype": "text/x-python",
   "name": "python",
   "nbconvert_exporter": "python",
   "pygments_lexer": "ipython3",
   "version": "3.8.8"
  },
  "orig_nbformat": 4
 },
 "nbformat": 4,
 "nbformat_minor": 2
}
